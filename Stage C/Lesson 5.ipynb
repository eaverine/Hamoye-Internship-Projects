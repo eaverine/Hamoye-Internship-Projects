{
 "cells": [
  {
   "cell_type": "code",
   "execution_count": 1,
   "metadata": {},
   "outputs": [],
   "source": [
    "import numpy as np\n",
    "import pandas as pd"
   ]
  },
  {
   "cell_type": "code",
   "execution_count": 2,
   "metadata": {},
   "outputs": [
    {
     "name": "stderr",
     "output_type": "stream",
     "text": [
      "C:\\Users\\U\\anaconda3\\lib\\site-packages\\IPython\\core\\interactiveshell.py:3146: DtypeWarning: Columns (6) have mixed types.Specify dtype option on import or set low_memory=False.\n",
      "  has_raised = await self.run_ast_nodes(code_ast.body, cell_name,\n"
     ]
    }
   ],
   "source": [
    "url = 'https://query.data.world/s/wh6j7rxy2hvrn4ml75ci62apk5hgae'\n",
    "data = pd.read_csv(url)"
   ]
  },
  {
   "cell_type": "code",
   "execution_count": 3,
   "metadata": {},
   "outputs": [
    {
     "data": {
      "text/html": [
       "<div>\n",
       "<style scoped>\n",
       "    .dataframe tbody tr th:only-of-type {\n",
       "        vertical-align: middle;\n",
       "    }\n",
       "\n",
       "    .dataframe tbody tr th {\n",
       "        vertical-align: top;\n",
       "    }\n",
       "\n",
       "    .dataframe thead th {\n",
       "        text-align: right;\n",
       "    }\n",
       "</style>\n",
       "<table border=\"1\" class=\"dataframe\">\n",
       "  <thead>\n",
       "    <tr style=\"text-align: right;\">\n",
       "      <th></th>\n",
       "      <th>country</th>\n",
       "      <th>year</th>\n",
       "      <th>country_code</th>\n",
       "      <th>record</th>\n",
       "      <th>crop_land</th>\n",
       "      <th>grazing_land</th>\n",
       "      <th>forest_land</th>\n",
       "      <th>fishing_ground</th>\n",
       "      <th>built_up_land</th>\n",
       "      <th>carbon</th>\n",
       "      <th>total</th>\n",
       "      <th>QScore</th>\n",
       "    </tr>\n",
       "  </thead>\n",
       "  <tbody>\n",
       "    <tr>\n",
       "      <th>count</th>\n",
       "      <td>72186</td>\n",
       "      <td>72186.000000</td>\n",
       "      <td>72186.000000</td>\n",
       "      <td>72186</td>\n",
       "      <td>5.171400e+04</td>\n",
       "      <td>5.171400e+04</td>\n",
       "      <td>51714</td>\n",
       "      <td>5.171300e+04</td>\n",
       "      <td>5.171300e+04</td>\n",
       "      <td>5.171300e+04</td>\n",
       "      <td>7.217700e+04</td>\n",
       "      <td>72185</td>\n",
       "    </tr>\n",
       "    <tr>\n",
       "      <th>unique</th>\n",
       "      <td>193</td>\n",
       "      <td>NaN</td>\n",
       "      <td>NaN</td>\n",
       "      <td>8</td>\n",
       "      <td>NaN</td>\n",
       "      <td>NaN</td>\n",
       "      <td>49103</td>\n",
       "      <td>NaN</td>\n",
       "      <td>NaN</td>\n",
       "      <td>NaN</td>\n",
       "      <td>NaN</td>\n",
       "      <td>5</td>\n",
       "    </tr>\n",
       "    <tr>\n",
       "      <th>top</th>\n",
       "      <td>Tonga</td>\n",
       "      <td>NaN</td>\n",
       "      <td>NaN</td>\n",
       "      <td>BiocapTotGHA</td>\n",
       "      <td>NaN</td>\n",
       "      <td>NaN</td>\n",
       "      <td>0</td>\n",
       "      <td>NaN</td>\n",
       "      <td>NaN</td>\n",
       "      <td>NaN</td>\n",
       "      <td>NaN</td>\n",
       "      <td>3A</td>\n",
       "    </tr>\n",
       "    <tr>\n",
       "      <th>freq</th>\n",
       "      <td>448</td>\n",
       "      <td>NaN</td>\n",
       "      <td>NaN</td>\n",
       "      <td>9024</td>\n",
       "      <td>NaN</td>\n",
       "      <td>NaN</td>\n",
       "      <td>180</td>\n",
       "      <td>NaN</td>\n",
       "      <td>NaN</td>\n",
       "      <td>NaN</td>\n",
       "      <td>NaN</td>\n",
       "      <td>51481</td>\n",
       "    </tr>\n",
       "    <tr>\n",
       "      <th>mean</th>\n",
       "      <td>NaN</td>\n",
       "      <td>1990.263154</td>\n",
       "      <td>155.618915</td>\n",
       "      <td>NaN</td>\n",
       "      <td>1.920772e+07</td>\n",
       "      <td>1.352875e+07</td>\n",
       "      <td>NaN</td>\n",
       "      <td>1.004860e+07</td>\n",
       "      <td>1.984737e+06</td>\n",
       "      <td>3.072609e+07</td>\n",
       "      <td>7.792960e+07</td>\n",
       "      <td>NaN</td>\n",
       "    </tr>\n",
       "    <tr>\n",
       "      <th>std</th>\n",
       "      <td>NaN</td>\n",
       "      <td>16.018761</td>\n",
       "      <td>390.261979</td>\n",
       "      <td>NaN</td>\n",
       "      <td>1.685819e+08</td>\n",
       "      <td>1.294180e+08</td>\n",
       "      <td>NaN</td>\n",
       "      <td>1.081375e+08</td>\n",
       "      <td>1.730488e+07</td>\n",
       "      <td>3.989630e+08</td>\n",
       "      <td>7.455443e+08</td>\n",
       "      <td>NaN</td>\n",
       "    </tr>\n",
       "    <tr>\n",
       "      <th>min</th>\n",
       "      <td>NaN</td>\n",
       "      <td>1961.000000</td>\n",
       "      <td>1.000000</td>\n",
       "      <td>NaN</td>\n",
       "      <td>0.000000e+00</td>\n",
       "      <td>0.000000e+00</td>\n",
       "      <td>NaN</td>\n",
       "      <td>0.000000e+00</td>\n",
       "      <td>0.000000e+00</td>\n",
       "      <td>0.000000e+00</td>\n",
       "      <td>1.876963e-02</td>\n",
       "      <td>NaN</td>\n",
       "    </tr>\n",
       "    <tr>\n",
       "      <th>25%</th>\n",
       "      <td>NaN</td>\n",
       "      <td>1977.000000</td>\n",
       "      <td>59.000000</td>\n",
       "      <td>NaN</td>\n",
       "      <td>3.581080e-01</td>\n",
       "      <td>1.948302e-01</td>\n",
       "      <td>NaN</td>\n",
       "      <td>8.005409e-02</td>\n",
       "      <td>3.786298e-02</td>\n",
       "      <td>0.000000e+00</td>\n",
       "      <td>1.894023e+00</td>\n",
       "      <td>NaN</td>\n",
       "    </tr>\n",
       "    <tr>\n",
       "      <th>50%</th>\n",
       "      <td>NaN</td>\n",
       "      <td>1991.000000</td>\n",
       "      <td>121.000000</td>\n",
       "      <td>NaN</td>\n",
       "      <td>3.251810e+00</td>\n",
       "      <td>9.978667e+00</td>\n",
       "      <td>NaN</td>\n",
       "      <td>6.154094e+00</td>\n",
       "      <td>2.044437e-01</td>\n",
       "      <td>0.000000e+00</td>\n",
       "      <td>8.292253e+03</td>\n",
       "      <td>NaN</td>\n",
       "    </tr>\n",
       "    <tr>\n",
       "      <th>75%</th>\n",
       "      <td>NaN</td>\n",
       "      <td>2004.000000</td>\n",
       "      <td>193.000000</td>\n",
       "      <td>NaN</td>\n",
       "      <td>3.610817e+06</td>\n",
       "      <td>1.734192e+06</td>\n",
       "      <td>NaN</td>\n",
       "      <td>9.450000e+05</td>\n",
       "      <td>3.867180e+05</td>\n",
       "      <td>1.915736e+01</td>\n",
       "      <td>1.532959e+07</td>\n",
       "      <td>NaN</td>\n",
       "    </tr>\n",
       "    <tr>\n",
       "      <th>max</th>\n",
       "      <td>NaN</td>\n",
       "      <td>2016.000000</td>\n",
       "      <td>5001.000000</td>\n",
       "      <td>NaN</td>\n",
       "      <td>3.984702e+09</td>\n",
       "      <td>3.417089e+09</td>\n",
       "      <td>NaN</td>\n",
       "      <td>2.979605e+09</td>\n",
       "      <td>4.726163e+08</td>\n",
       "      <td>1.257160e+10</td>\n",
       "      <td>2.061182e+10</td>\n",
       "      <td>NaN</td>\n",
       "    </tr>\n",
       "  </tbody>\n",
       "</table>\n",
       "</div>"
      ],
      "text/plain": [
       "       country          year  country_code        record     crop_land  \\\n",
       "count    72186  72186.000000  72186.000000         72186  5.171400e+04   \n",
       "unique     193           NaN           NaN             8           NaN   \n",
       "top      Tonga           NaN           NaN  BiocapTotGHA           NaN   \n",
       "freq       448           NaN           NaN          9024           NaN   \n",
       "mean       NaN   1990.263154    155.618915           NaN  1.920772e+07   \n",
       "std        NaN     16.018761    390.261979           NaN  1.685819e+08   \n",
       "min        NaN   1961.000000      1.000000           NaN  0.000000e+00   \n",
       "25%        NaN   1977.000000     59.000000           NaN  3.581080e-01   \n",
       "50%        NaN   1991.000000    121.000000           NaN  3.251810e+00   \n",
       "75%        NaN   2004.000000    193.000000           NaN  3.610817e+06   \n",
       "max        NaN   2016.000000   5001.000000           NaN  3.984702e+09   \n",
       "\n",
       "        grazing_land forest_land  fishing_ground  built_up_land        carbon  \\\n",
       "count   5.171400e+04       51714    5.171300e+04   5.171300e+04  5.171300e+04   \n",
       "unique           NaN       49103             NaN            NaN           NaN   \n",
       "top              NaN           0             NaN            NaN           NaN   \n",
       "freq             NaN         180             NaN            NaN           NaN   \n",
       "mean    1.352875e+07         NaN    1.004860e+07   1.984737e+06  3.072609e+07   \n",
       "std     1.294180e+08         NaN    1.081375e+08   1.730488e+07  3.989630e+08   \n",
       "min     0.000000e+00         NaN    0.000000e+00   0.000000e+00  0.000000e+00   \n",
       "25%     1.948302e-01         NaN    8.005409e-02   3.786298e-02  0.000000e+00   \n",
       "50%     9.978667e+00         NaN    6.154094e+00   2.044437e-01  0.000000e+00   \n",
       "75%     1.734192e+06         NaN    9.450000e+05   3.867180e+05  1.915736e+01   \n",
       "max     3.417089e+09         NaN    2.979605e+09   4.726163e+08  1.257160e+10   \n",
       "\n",
       "               total QScore  \n",
       "count   7.217700e+04  72185  \n",
       "unique           NaN      5  \n",
       "top              NaN     3A  \n",
       "freq             NaN  51481  \n",
       "mean    7.792960e+07    NaN  \n",
       "std     7.455443e+08    NaN  \n",
       "min     1.876963e-02    NaN  \n",
       "25%     1.894023e+00    NaN  \n",
       "50%     8.292253e+03    NaN  \n",
       "75%     1.532959e+07    NaN  \n",
       "max     2.061182e+10    NaN  "
      ]
     },
     "execution_count": 3,
     "metadata": {},
     "output_type": "execute_result"
    }
   ],
   "source": [
    "data.describe(include = 'all')"
   ]
  },
  {
   "cell_type": "code",
   "execution_count": 4,
   "metadata": {},
   "outputs": [
    {
     "data": {
      "text/html": [
       "<div>\n",
       "<style scoped>\n",
       "    .dataframe tbody tr th:only-of-type {\n",
       "        vertical-align: middle;\n",
       "    }\n",
       "\n",
       "    .dataframe tbody tr th {\n",
       "        vertical-align: top;\n",
       "    }\n",
       "\n",
       "    .dataframe thead th {\n",
       "        text-align: right;\n",
       "    }\n",
       "</style>\n",
       "<table border=\"1\" class=\"dataframe\">\n",
       "  <thead>\n",
       "    <tr style=\"text-align: right;\">\n",
       "      <th></th>\n",
       "      <th>country</th>\n",
       "      <th>year</th>\n",
       "      <th>country_code</th>\n",
       "      <th>record</th>\n",
       "      <th>crop_land</th>\n",
       "      <th>grazing_land</th>\n",
       "      <th>forest_land</th>\n",
       "      <th>fishing_ground</th>\n",
       "      <th>built_up_land</th>\n",
       "      <th>carbon</th>\n",
       "      <th>total</th>\n",
       "      <th>QScore</th>\n",
       "    </tr>\n",
       "  </thead>\n",
       "  <tbody>\n",
       "    <tr>\n",
       "      <th>0</th>\n",
       "      <td>Armenia</td>\n",
       "      <td>1992</td>\n",
       "      <td>1</td>\n",
       "      <td>AreaPerCap</td>\n",
       "      <td>0.140292</td>\n",
       "      <td>0.199546</td>\n",
       "      <td>0.097188051</td>\n",
       "      <td>0.036888</td>\n",
       "      <td>0.029320</td>\n",
       "      <td>0.000000</td>\n",
       "      <td>5.032351e-01</td>\n",
       "      <td>3A</td>\n",
       "    </tr>\n",
       "    <tr>\n",
       "      <th>1</th>\n",
       "      <td>Armenia</td>\n",
       "      <td>1992</td>\n",
       "      <td>1</td>\n",
       "      <td>AreaTotHA</td>\n",
       "      <td>483000.000000</td>\n",
       "      <td>687000.000000</td>\n",
       "      <td>334600</td>\n",
       "      <td>127000.000000</td>\n",
       "      <td>100943.000800</td>\n",
       "      <td>0.000000</td>\n",
       "      <td>1.732543e+06</td>\n",
       "      <td>3A</td>\n",
       "    </tr>\n",
       "    <tr>\n",
       "      <th>2</th>\n",
       "      <td>Armenia</td>\n",
       "      <td>1992</td>\n",
       "      <td>1</td>\n",
       "      <td>BiocapPerCap</td>\n",
       "      <td>0.159804</td>\n",
       "      <td>0.135261</td>\n",
       "      <td>0.084003213</td>\n",
       "      <td>0.013742</td>\n",
       "      <td>0.033398</td>\n",
       "      <td>0.000000</td>\n",
       "      <td>4.262086e-01</td>\n",
       "      <td>3A</td>\n",
       "    </tr>\n",
       "    <tr>\n",
       "      <th>3</th>\n",
       "      <td>Armenia</td>\n",
       "      <td>1992</td>\n",
       "      <td>1</td>\n",
       "      <td>BiocapTotGHA</td>\n",
       "      <td>550176.242700</td>\n",
       "      <td>465677.972200</td>\n",
       "      <td>289207.1078</td>\n",
       "      <td>47311.551720</td>\n",
       "      <td>114982.279300</td>\n",
       "      <td>0.000000</td>\n",
       "      <td>1.467355e+06</td>\n",
       "      <td>3A</td>\n",
       "    </tr>\n",
       "    <tr>\n",
       "      <th>4</th>\n",
       "      <td>Armenia</td>\n",
       "      <td>1992</td>\n",
       "      <td>1</td>\n",
       "      <td>EFConsPerCap</td>\n",
       "      <td>0.387510</td>\n",
       "      <td>0.189462</td>\n",
       "      <td>1.26E-06</td>\n",
       "      <td>0.004165</td>\n",
       "      <td>0.033398</td>\n",
       "      <td>1.114093</td>\n",
       "      <td>1.728629e+00</td>\n",
       "      <td>3A</td>\n",
       "    </tr>\n",
       "  </tbody>\n",
       "</table>\n",
       "</div>"
      ],
      "text/plain": [
       "   country  year  country_code        record      crop_land   grazing_land  \\\n",
       "0  Armenia  1992             1    AreaPerCap       0.140292       0.199546   \n",
       "1  Armenia  1992             1     AreaTotHA  483000.000000  687000.000000   \n",
       "2  Armenia  1992             1  BiocapPerCap       0.159804       0.135261   \n",
       "3  Armenia  1992             1  BiocapTotGHA  550176.242700  465677.972200   \n",
       "4  Armenia  1992             1  EFConsPerCap       0.387510       0.189462   \n",
       "\n",
       "   forest_land  fishing_ground  built_up_land    carbon         total QScore  \n",
       "0  0.097188051        0.036888       0.029320  0.000000  5.032351e-01     3A  \n",
       "1       334600   127000.000000  100943.000800  0.000000  1.732543e+06     3A  \n",
       "2  0.084003213        0.013742       0.033398  0.000000  4.262086e-01     3A  \n",
       "3  289207.1078    47311.551720  114982.279300  0.000000  1.467355e+06     3A  \n",
       "4     1.26E-06        0.004165       0.033398  1.114093  1.728629e+00     3A  "
      ]
     },
     "execution_count": 4,
     "metadata": {},
     "output_type": "execute_result"
    }
   ],
   "source": [
    "data.head()"
   ]
  },
  {
   "cell_type": "code",
   "execution_count": 5,
   "metadata": {},
   "outputs": [
    {
     "data": {
      "text/plain": [
       "72185"
      ]
     },
     "execution_count": 5,
     "metadata": {},
     "output_type": "execute_result"
    }
   ],
   "source": [
    "data['QScore'].count()"
   ]
  },
  {
   "cell_type": "code",
   "execution_count": 6,
   "metadata": {},
   "outputs": [
    {
     "data": {
      "text/plain": [
       "3A    51481\n",
       "2A    10576\n",
       "2B    10096\n",
       "1A       16\n",
       "1B       16\n",
       "Name: QScore, dtype: int64"
      ]
     },
     "execution_count": 6,
     "metadata": {},
     "output_type": "execute_result"
    }
   ],
   "source": [
    "data['QScore'].value_counts()"
   ]
  },
  {
   "cell_type": "code",
   "execution_count": 7,
   "metadata": {},
   "outputs": [
    {
     "data": {
      "text/plain": [
       "country               0\n",
       "year                  0\n",
       "country_code          0\n",
       "record                0\n",
       "crop_land         20472\n",
       "grazing_land      20472\n",
       "forest_land       20472\n",
       "fishing_ground    20473\n",
       "built_up_land     20473\n",
       "carbon            20473\n",
       "total                 9\n",
       "QScore                1\n",
       "dtype: int64"
      ]
     },
     "execution_count": 7,
     "metadata": {},
     "output_type": "execute_result"
    }
   ],
   "source": [
    "data.isna().sum()"
   ]
  },
  {
   "cell_type": "code",
   "execution_count": 8,
   "metadata": {},
   "outputs": [],
   "source": [
    "df = data.dropna()"
   ]
  },
  {
   "cell_type": "code",
   "execution_count": 9,
   "metadata": {},
   "outputs": [
    {
     "data": {
      "text/plain": [
       "country           0\n",
       "year              0\n",
       "country_code      0\n",
       "record            0\n",
       "crop_land         0\n",
       "grazing_land      0\n",
       "forest_land       0\n",
       "fishing_ground    0\n",
       "built_up_land     0\n",
       "carbon            0\n",
       "total             0\n",
       "QScore            0\n",
       "dtype: int64"
      ]
     },
     "execution_count": 9,
     "metadata": {},
     "output_type": "execute_result"
    }
   ],
   "source": [
    "df.isna().sum()"
   ]
  },
  {
   "cell_type": "code",
   "execution_count": 10,
   "metadata": {},
   "outputs": [
    {
     "data": {
      "text/plain": [
       "3A    51473\n",
       "2A      224\n",
       "1A       16\n",
       "Name: QScore, dtype: int64"
      ]
     },
     "execution_count": 10,
     "metadata": {},
     "output_type": "execute_result"
    }
   ],
   "source": [
    "df['QScore'].value_counts()"
   ]
  },
  {
   "cell_type": "code",
   "execution_count": 11,
   "metadata": {},
   "outputs": [
    {
     "name": "stderr",
     "output_type": "stream",
     "text": [
      "<ipython-input-11-b2446f1551ff>:1: SettingWithCopyWarning: \n",
      "A value is trying to be set on a copy of a slice from a DataFrame.\n",
      "Try using .loc[row_indexer,col_indexer] = value instead\n",
      "\n",
      "See the caveats in the documentation: https://pandas.pydata.org/pandas-docs/stable/user_guide/indexing.html#returning-a-view-versus-a-copy\n",
      "  df['QScore'] = df['QScore'].replace(['1A'], '2A')\n"
     ]
    },
    {
     "data": {
      "text/plain": [
       "3A    51473\n",
       "2A      240\n",
       "Name: QScore, dtype: int64"
      ]
     },
     "execution_count": 11,
     "metadata": {},
     "output_type": "execute_result"
    }
   ],
   "source": [
    "df['QScore'] = df['QScore'].replace(['1A'], '2A')\n",
    "df['QScore'].value_counts()"
   ]
  },
  {
   "cell_type": "code",
   "execution_count": 12,
   "metadata": {},
   "outputs": [],
   "source": [
    "df_2A = df[df.QScore == '2A']\n",
    "df_3A = df[df.QScore == '3A'].sample(350)"
   ]
  },
  {
   "cell_type": "code",
   "execution_count": 13,
   "metadata": {},
   "outputs": [
    {
     "data": {
      "text/html": [
       "<div>\n",
       "<style scoped>\n",
       "    .dataframe tbody tr th:only-of-type {\n",
       "        vertical-align: middle;\n",
       "    }\n",
       "\n",
       "    .dataframe tbody tr th {\n",
       "        vertical-align: top;\n",
       "    }\n",
       "\n",
       "    .dataframe thead th {\n",
       "        text-align: right;\n",
       "    }\n",
       "</style>\n",
       "<table border=\"1\" class=\"dataframe\">\n",
       "  <thead>\n",
       "    <tr style=\"text-align: right;\">\n",
       "      <th></th>\n",
       "      <th>country</th>\n",
       "      <th>year</th>\n",
       "      <th>country_code</th>\n",
       "      <th>record</th>\n",
       "      <th>crop_land</th>\n",
       "      <th>grazing_land</th>\n",
       "      <th>forest_land</th>\n",
       "      <th>fishing_ground</th>\n",
       "      <th>built_up_land</th>\n",
       "      <th>carbon</th>\n",
       "      <th>total</th>\n",
       "      <th>QScore</th>\n",
       "    </tr>\n",
       "  </thead>\n",
       "  <tbody>\n",
       "    <tr>\n",
       "      <th>1536</th>\n",
       "      <td>Algeria</td>\n",
       "      <td>2016</td>\n",
       "      <td>4</td>\n",
       "      <td>AreaPerCap</td>\n",
       "      <td>2.072989e-01</td>\n",
       "      <td>8.112722e-01</td>\n",
       "      <td>0.048357265</td>\n",
       "      <td>2.258528e-02</td>\n",
       "      <td>2.998367e-02</td>\n",
       "      <td>0.000000e+00</td>\n",
       "      <td>1.119497e+00</td>\n",
       "      <td>2A</td>\n",
       "    </tr>\n",
       "    <tr>\n",
       "      <th>1537</th>\n",
       "      <td>Algeria</td>\n",
       "      <td>2016</td>\n",
       "      <td>4</td>\n",
       "      <td>AreaTotHA</td>\n",
       "      <td>8.417600e+06</td>\n",
       "      <td>3.294260e+07</td>\n",
       "      <td>1963600</td>\n",
       "      <td>9.171000e+05</td>\n",
       "      <td>1.217520e+06</td>\n",
       "      <td>0.000000e+00</td>\n",
       "      <td>4.545842e+07</td>\n",
       "      <td>2A</td>\n",
       "    </tr>\n",
       "    <tr>\n",
       "      <th>1538</th>\n",
       "      <td>Algeria</td>\n",
       "      <td>2016</td>\n",
       "      <td>4</td>\n",
       "      <td>BiocapPerCap</td>\n",
       "      <td>2.021916e-01</td>\n",
       "      <td>2.636077e-01</td>\n",
       "      <td>0.027166736</td>\n",
       "      <td>7.947991e-03</td>\n",
       "      <td>2.924496e-02</td>\n",
       "      <td>0.000000e+00</td>\n",
       "      <td>5.301590e-01</td>\n",
       "      <td>2A</td>\n",
       "    </tr>\n",
       "    <tr>\n",
       "      <th>1539</th>\n",
       "      <td>Algeria</td>\n",
       "      <td>2016</td>\n",
       "      <td>4</td>\n",
       "      <td>BiocapTotGHA</td>\n",
       "      <td>8.210214e+06</td>\n",
       "      <td>1.070408e+07</td>\n",
       "      <td>1103135.245</td>\n",
       "      <td>3.227369e+05</td>\n",
       "      <td>1.187524e+06</td>\n",
       "      <td>0.000000e+00</td>\n",
       "      <td>2.152769e+07</td>\n",
       "      <td>2A</td>\n",
       "    </tr>\n",
       "    <tr>\n",
       "      <th>1540</th>\n",
       "      <td>Algeria</td>\n",
       "      <td>2016</td>\n",
       "      <td>4</td>\n",
       "      <td>EFConsPerCap</td>\n",
       "      <td>6.280528e-01</td>\n",
       "      <td>1.810332e-01</td>\n",
       "      <td>0.162800822</td>\n",
       "      <td>1.472910e-02</td>\n",
       "      <td>2.924496e-02</td>\n",
       "      <td>1.391455e+00</td>\n",
       "      <td>2.407316e+00</td>\n",
       "      <td>2A</td>\n",
       "    </tr>\n",
       "    <tr>\n",
       "      <th>...</th>\n",
       "      <td>...</td>\n",
       "      <td>...</td>\n",
       "      <td>...</td>\n",
       "      <td>...</td>\n",
       "      <td>...</td>\n",
       "      <td>...</td>\n",
       "      <td>...</td>\n",
       "      <td>...</td>\n",
       "      <td>...</td>\n",
       "      <td>...</td>\n",
       "      <td>...</td>\n",
       "      <td>...</td>\n",
       "    </tr>\n",
       "    <tr>\n",
       "      <th>65469</th>\n",
       "      <td>Ukraine</td>\n",
       "      <td>2016</td>\n",
       "      <td>230</td>\n",
       "      <td>BiocapTotGHA</td>\n",
       "      <td>8.966961e+07</td>\n",
       "      <td>6.457412e+06</td>\n",
       "      <td>19268322.04</td>\n",
       "      <td>6.920056e+06</td>\n",
       "      <td>3.952345e+06</td>\n",
       "      <td>0.000000e+00</td>\n",
       "      <td>1.262677e+08</td>\n",
       "      <td>2A</td>\n",
       "    </tr>\n",
       "    <tr>\n",
       "      <th>65470</th>\n",
       "      <td>Ukraine</td>\n",
       "      <td>2016</td>\n",
       "      <td>230</td>\n",
       "      <td>EFConsPerCap</td>\n",
       "      <td>1.155004e+00</td>\n",
       "      <td>1.081601e-02</td>\n",
       "      <td>0.149119494</td>\n",
       "      <td>5.150234e-02</td>\n",
       "      <td>8.893945e-02</td>\n",
       "      <td>1.453137e+00</td>\n",
       "      <td>2.908519e+00</td>\n",
       "      <td>2A</td>\n",
       "    </tr>\n",
       "    <tr>\n",
       "      <th>65471</th>\n",
       "      <td>Ukraine</td>\n",
       "      <td>2016</td>\n",
       "      <td>230</td>\n",
       "      <td>EFConsTotGHA</td>\n",
       "      <td>5.132678e+07</td>\n",
       "      <td>4.806484e+05</td>\n",
       "      <td>6626661.768</td>\n",
       "      <td>2.288692e+06</td>\n",
       "      <td>3.952345e+06</td>\n",
       "      <td>6.457538e+07</td>\n",
       "      <td>1.292505e+08</td>\n",
       "      <td>2A</td>\n",
       "    </tr>\n",
       "    <tr>\n",
       "      <th>65472</th>\n",
       "      <td>Ukraine</td>\n",
       "      <td>2016</td>\n",
       "      <td>230</td>\n",
       "      <td>EFProdPerCap</td>\n",
       "      <td>2.017831e+00</td>\n",
       "      <td>5.768143e-03</td>\n",
       "      <td>0.216720935</td>\n",
       "      <td>3.223480e-03</td>\n",
       "      <td>8.893945e-02</td>\n",
       "      <td>1.665767e+00</td>\n",
       "      <td>3.998251e+00</td>\n",
       "      <td>2A</td>\n",
       "    </tr>\n",
       "    <tr>\n",
       "      <th>65473</th>\n",
       "      <td>Ukraine</td>\n",
       "      <td>2016</td>\n",
       "      <td>230</td>\n",
       "      <td>EFProdTotGHA</td>\n",
       "      <td>8.966961e+07</td>\n",
       "      <td>2.563282e+05</td>\n",
       "      <td>9630775.281</td>\n",
       "      <td>1.432470e+05</td>\n",
       "      <td>3.952345e+06</td>\n",
       "      <td>7.402438e+07</td>\n",
       "      <td>1.776767e+08</td>\n",
       "      <td>2A</td>\n",
       "    </tr>\n",
       "  </tbody>\n",
       "</table>\n",
       "<p>240 rows × 12 columns</p>\n",
       "</div>"
      ],
      "text/plain": [
       "       country  year  country_code        record     crop_land  grazing_land  \\\n",
       "1536   Algeria  2016             4    AreaPerCap  2.072989e-01  8.112722e-01   \n",
       "1537   Algeria  2016             4     AreaTotHA  8.417600e+06  3.294260e+07   \n",
       "1538   Algeria  2016             4  BiocapPerCap  2.021916e-01  2.636077e-01   \n",
       "1539   Algeria  2016             4  BiocapTotGHA  8.210214e+06  1.070408e+07   \n",
       "1540   Algeria  2016             4  EFConsPerCap  6.280528e-01  1.810332e-01   \n",
       "...        ...   ...           ...           ...           ...           ...   \n",
       "65469  Ukraine  2016           230  BiocapTotGHA  8.966961e+07  6.457412e+06   \n",
       "65470  Ukraine  2016           230  EFConsPerCap  1.155004e+00  1.081601e-02   \n",
       "65471  Ukraine  2016           230  EFConsTotGHA  5.132678e+07  4.806484e+05   \n",
       "65472  Ukraine  2016           230  EFProdPerCap  2.017831e+00  5.768143e-03   \n",
       "65473  Ukraine  2016           230  EFProdTotGHA  8.966961e+07  2.563282e+05   \n",
       "\n",
       "       forest_land  fishing_ground  built_up_land        carbon         total  \\\n",
       "1536   0.048357265    2.258528e-02   2.998367e-02  0.000000e+00  1.119497e+00   \n",
       "1537       1963600    9.171000e+05   1.217520e+06  0.000000e+00  4.545842e+07   \n",
       "1538   0.027166736    7.947991e-03   2.924496e-02  0.000000e+00  5.301590e-01   \n",
       "1539   1103135.245    3.227369e+05   1.187524e+06  0.000000e+00  2.152769e+07   \n",
       "1540   0.162800822    1.472910e-02   2.924496e-02  1.391455e+00  2.407316e+00   \n",
       "...            ...             ...            ...           ...           ...   \n",
       "65469  19268322.04    6.920056e+06   3.952345e+06  0.000000e+00  1.262677e+08   \n",
       "65470  0.149119494    5.150234e-02   8.893945e-02  1.453137e+00  2.908519e+00   \n",
       "65471  6626661.768    2.288692e+06   3.952345e+06  6.457538e+07  1.292505e+08   \n",
       "65472  0.216720935    3.223480e-03   8.893945e-02  1.665767e+00  3.998251e+00   \n",
       "65473  9630775.281    1.432470e+05   3.952345e+06  7.402438e+07  1.776767e+08   \n",
       "\n",
       "      QScore  \n",
       "1536      2A  \n",
       "1537      2A  \n",
       "1538      2A  \n",
       "1539      2A  \n",
       "1540      2A  \n",
       "...      ...  \n",
       "65469     2A  \n",
       "65470     2A  \n",
       "65471     2A  \n",
       "65472     2A  \n",
       "65473     2A  \n",
       "\n",
       "[240 rows x 12 columns]"
      ]
     },
     "execution_count": 13,
     "metadata": {},
     "output_type": "execute_result"
    }
   ],
   "source": [
    "df_2A"
   ]
  },
  {
   "cell_type": "code",
   "execution_count": 14,
   "metadata": {},
   "outputs": [
    {
     "data": {
      "text/html": [
       "<div>\n",
       "<style scoped>\n",
       "    .dataframe tbody tr th:only-of-type {\n",
       "        vertical-align: middle;\n",
       "    }\n",
       "\n",
       "    .dataframe tbody tr th {\n",
       "        vertical-align: top;\n",
       "    }\n",
       "\n",
       "    .dataframe thead th {\n",
       "        text-align: right;\n",
       "    }\n",
       "</style>\n",
       "<table border=\"1\" class=\"dataframe\">\n",
       "  <thead>\n",
       "    <tr style=\"text-align: right;\">\n",
       "      <th></th>\n",
       "      <th>country</th>\n",
       "      <th>year</th>\n",
       "      <th>country_code</th>\n",
       "      <th>record</th>\n",
       "      <th>crop_land</th>\n",
       "      <th>grazing_land</th>\n",
       "      <th>forest_land</th>\n",
       "      <th>fishing_ground</th>\n",
       "      <th>built_up_land</th>\n",
       "      <th>carbon</th>\n",
       "      <th>total</th>\n",
       "      <th>QScore</th>\n",
       "    </tr>\n",
       "  </thead>\n",
       "  <tbody>\n",
       "    <tr>\n",
       "      <th>60461</th>\n",
       "      <td>Tanzania, United Republic of</td>\n",
       "      <td>1964</td>\n",
       "      <td>215</td>\n",
       "      <td>BiocapTotGHA</td>\n",
       "      <td>3.829477e+06</td>\n",
       "      <td>1.408132e+07</td>\n",
       "      <td>9650259.341</td>\n",
       "      <td>3.060478e+06</td>\n",
       "      <td>2.470193e+05</td>\n",
       "      <td>0.000000e+00</td>\n",
       "      <td>3.086855e+07</td>\n",
       "      <td>3A</td>\n",
       "    </tr>\n",
       "    <tr>\n",
       "      <th>67538</th>\n",
       "      <td>Viet Nam</td>\n",
       "      <td>1970</td>\n",
       "      <td>237</td>\n",
       "      <td>AreaPerCap</td>\n",
       "      <td>1.405844e-01</td>\n",
       "      <td>7.247898e-03</td>\n",
       "      <td>0.316836</td>\n",
       "      <td>9.933099e-01</td>\n",
       "      <td>2.082564e-02</td>\n",
       "      <td>0.000000e+00</td>\n",
       "      <td>1.478804e+00</td>\n",
       "      <td>3A</td>\n",
       "    </tr>\n",
       "    <tr>\n",
       "      <th>35304</th>\n",
       "      <td>Lao People's Democratic Republic</td>\n",
       "      <td>1961</td>\n",
       "      <td>120</td>\n",
       "      <td>AreaPerCap</td>\n",
       "      <td>2.994922e-01</td>\n",
       "      <td>4.146816e-01</td>\n",
       "      <td>10.0657343</td>\n",
       "      <td>2.764544e-01</td>\n",
       "      <td>4.972493e-02</td>\n",
       "      <td>0.000000e+00</td>\n",
       "      <td>1.110609e+01</td>\n",
       "      <td>3A</td>\n",
       "    </tr>\n",
       "    <tr>\n",
       "      <th>26400</th>\n",
       "      <td>Guyana</td>\n",
       "      <td>2003</td>\n",
       "      <td>91</td>\n",
       "      <td>AreaPerCap</td>\n",
       "      <td>6.357592e-01</td>\n",
       "      <td>1.635949e+00</td>\n",
       "      <td>22.09196711</td>\n",
       "      <td>9.323316e+00</td>\n",
       "      <td>5.177208e-02</td>\n",
       "      <td>0.000000e+00</td>\n",
       "      <td>3.373876e+01</td>\n",
       "      <td>3A</td>\n",
       "    </tr>\n",
       "    <tr>\n",
       "      <th>26080</th>\n",
       "      <td>Guyana</td>\n",
       "      <td>1963</td>\n",
       "      <td>91</td>\n",
       "      <td>AreaPerCap</td>\n",
       "      <td>5.782436e-01</td>\n",
       "      <td>1.604626e+00</td>\n",
       "      <td>29.73677465</td>\n",
       "      <td>1.128185e+01</td>\n",
       "      <td>5.177207e-02</td>\n",
       "      <td>0.000000e+00</td>\n",
       "      <td>4.325327e+01</td>\n",
       "      <td>3A</td>\n",
       "    </tr>\n",
       "    <tr>\n",
       "      <th>...</th>\n",
       "      <td>...</td>\n",
       "      <td>...</td>\n",
       "      <td>...</td>\n",
       "      <td>...</td>\n",
       "      <td>...</td>\n",
       "      <td>...</td>\n",
       "      <td>...</td>\n",
       "      <td>...</td>\n",
       "      <td>...</td>\n",
       "      <td>...</td>\n",
       "      <td>...</td>\n",
       "      <td>...</td>\n",
       "    </tr>\n",
       "    <tr>\n",
       "      <th>46281</th>\n",
       "      <td>Norway</td>\n",
       "      <td>2000</td>\n",
       "      <td>162</td>\n",
       "      <td>EFProdTotGHA</td>\n",
       "      <td>1.702080e+06</td>\n",
       "      <td>1.919794e+06</td>\n",
       "      <td>5674036.993</td>\n",
       "      <td>2.528579e+07</td>\n",
       "      <td>2.616858e+05</td>\n",
       "      <td>1.357489e+07</td>\n",
       "      <td>4.841828e+07</td>\n",
       "      <td>3A</td>\n",
       "    </tr>\n",
       "    <tr>\n",
       "      <th>32397</th>\n",
       "      <td>Japan</td>\n",
       "      <td>2001</td>\n",
       "      <td>110</td>\n",
       "      <td>EFConsTotGHA</td>\n",
       "      <td>6.878130e+07</td>\n",
       "      <td>1.946556e+07</td>\n",
       "      <td>41321231.31</td>\n",
       "      <td>6.150713e+07</td>\n",
       "      <td>8.277309e+06</td>\n",
       "      <td>4.626401e+08</td>\n",
       "      <td>6.619927e+08</td>\n",
       "      <td>3A</td>\n",
       "    </tr>\n",
       "    <tr>\n",
       "      <th>48577</th>\n",
       "      <td>Peru</td>\n",
       "      <td>1983</td>\n",
       "      <td>170</td>\n",
       "      <td>EFProdTotGHA</td>\n",
       "      <td>3.313877e+06</td>\n",
       "      <td>1.287114e+07</td>\n",
       "      <td>3193901.69</td>\n",
       "      <td>2.127030e+06</td>\n",
       "      <td>6.321223e+05</td>\n",
       "      <td>6.307104e+06</td>\n",
       "      <td>2.844517e+07</td>\n",
       "      <td>3A</td>\n",
       "    </tr>\n",
       "    <tr>\n",
       "      <th>3794</th>\n",
       "      <td>Bahamas</td>\n",
       "      <td>1991</td>\n",
       "      <td>12</td>\n",
       "      <td>BiocapPerCap</td>\n",
       "      <td>4.217835e-02</td>\n",
       "      <td>3.515023e-03</td>\n",
       "      <td>1.682328292</td>\n",
       "      <td>1.193912e+01</td>\n",
       "      <td>2.957719e-02</td>\n",
       "      <td>0.000000e+00</td>\n",
       "      <td>1.369672e+01</td>\n",
       "      <td>3A</td>\n",
       "    </tr>\n",
       "    <tr>\n",
       "      <th>28813</th>\n",
       "      <td>Indonesia</td>\n",
       "      <td>1999</td>\n",
       "      <td>101</td>\n",
       "      <td>EFConsTotGHA</td>\n",
       "      <td>8.565054e+07</td>\n",
       "      <td>4.534881e+06</td>\n",
       "      <td>59555534.03</td>\n",
       "      <td>2.951416e+07</td>\n",
       "      <td>1.124444e+07</td>\n",
       "      <td>9.209290e+07</td>\n",
       "      <td>2.825925e+08</td>\n",
       "      <td>3A</td>\n",
       "    </tr>\n",
       "  </tbody>\n",
       "</table>\n",
       "<p>350 rows × 12 columns</p>\n",
       "</div>"
      ],
      "text/plain": [
       "                                country  year  country_code        record  \\\n",
       "60461      Tanzania, United Republic of  1964           215  BiocapTotGHA   \n",
       "67538                          Viet Nam  1970           237    AreaPerCap   \n",
       "35304  Lao People's Democratic Republic  1961           120    AreaPerCap   \n",
       "26400                            Guyana  2003            91    AreaPerCap   \n",
       "26080                            Guyana  1963            91    AreaPerCap   \n",
       "...                                 ...   ...           ...           ...   \n",
       "46281                            Norway  2000           162  EFProdTotGHA   \n",
       "32397                             Japan  2001           110  EFConsTotGHA   \n",
       "48577                              Peru  1983           170  EFProdTotGHA   \n",
       "3794                            Bahamas  1991            12  BiocapPerCap   \n",
       "28813                         Indonesia  1999           101  EFConsTotGHA   \n",
       "\n",
       "          crop_land  grazing_land  forest_land  fishing_ground  built_up_land  \\\n",
       "60461  3.829477e+06  1.408132e+07  9650259.341    3.060478e+06   2.470193e+05   \n",
       "67538  1.405844e-01  7.247898e-03     0.316836    9.933099e-01   2.082564e-02   \n",
       "35304  2.994922e-01  4.146816e-01   10.0657343    2.764544e-01   4.972493e-02   \n",
       "26400  6.357592e-01  1.635949e+00  22.09196711    9.323316e+00   5.177208e-02   \n",
       "26080  5.782436e-01  1.604626e+00  29.73677465    1.128185e+01   5.177207e-02   \n",
       "...             ...           ...          ...             ...            ...   \n",
       "46281  1.702080e+06  1.919794e+06  5674036.993    2.528579e+07   2.616858e+05   \n",
       "32397  6.878130e+07  1.946556e+07  41321231.31    6.150713e+07   8.277309e+06   \n",
       "48577  3.313877e+06  1.287114e+07   3193901.69    2.127030e+06   6.321223e+05   \n",
       "3794   4.217835e-02  3.515023e-03  1.682328292    1.193912e+01   2.957719e-02   \n",
       "28813  8.565054e+07  4.534881e+06  59555534.03    2.951416e+07   1.124444e+07   \n",
       "\n",
       "             carbon         total QScore  \n",
       "60461  0.000000e+00  3.086855e+07     3A  \n",
       "67538  0.000000e+00  1.478804e+00     3A  \n",
       "35304  0.000000e+00  1.110609e+01     3A  \n",
       "26400  0.000000e+00  3.373876e+01     3A  \n",
       "26080  0.000000e+00  4.325327e+01     3A  \n",
       "...             ...           ...    ...  \n",
       "46281  1.357489e+07  4.841828e+07     3A  \n",
       "32397  4.626401e+08  6.619927e+08     3A  \n",
       "48577  6.307104e+06  2.844517e+07     3A  \n",
       "3794   0.000000e+00  1.369672e+01     3A  \n",
       "28813  9.209290e+07  2.825925e+08     3A  \n",
       "\n",
       "[350 rows x 12 columns]"
      ]
     },
     "execution_count": 14,
     "metadata": {},
     "output_type": "execute_result"
    }
   ],
   "source": [
    "df_3A"
   ]
  },
  {
   "cell_type": "code",
   "execution_count": 15,
   "metadata": {},
   "outputs": [
    {
     "data": {
      "text/html": [
       "<div>\n",
       "<style scoped>\n",
       "    .dataframe tbody tr th:only-of-type {\n",
       "        vertical-align: middle;\n",
       "    }\n",
       "\n",
       "    .dataframe tbody tr th {\n",
       "        vertical-align: top;\n",
       "    }\n",
       "\n",
       "    .dataframe thead th {\n",
       "        text-align: right;\n",
       "    }\n",
       "</style>\n",
       "<table border=\"1\" class=\"dataframe\">\n",
       "  <thead>\n",
       "    <tr style=\"text-align: right;\">\n",
       "      <th></th>\n",
       "      <th>country</th>\n",
       "      <th>year</th>\n",
       "      <th>country_code</th>\n",
       "      <th>record</th>\n",
       "      <th>crop_land</th>\n",
       "      <th>grazing_land</th>\n",
       "      <th>forest_land</th>\n",
       "      <th>fishing_ground</th>\n",
       "      <th>built_up_land</th>\n",
       "      <th>carbon</th>\n",
       "      <th>total</th>\n",
       "      <th>QScore</th>\n",
       "    </tr>\n",
       "  </thead>\n",
       "  <tbody>\n",
       "    <tr>\n",
       "      <th>1536</th>\n",
       "      <td>Algeria</td>\n",
       "      <td>2016</td>\n",
       "      <td>4</td>\n",
       "      <td>AreaPerCap</td>\n",
       "      <td>2.072989e-01</td>\n",
       "      <td>8.112722e-01</td>\n",
       "      <td>0.048357265</td>\n",
       "      <td>2.258528e-02</td>\n",
       "      <td>2.998367e-02</td>\n",
       "      <td>0.000000e+00</td>\n",
       "      <td>1.119497e+00</td>\n",
       "      <td>2A</td>\n",
       "    </tr>\n",
       "    <tr>\n",
       "      <th>1537</th>\n",
       "      <td>Algeria</td>\n",
       "      <td>2016</td>\n",
       "      <td>4</td>\n",
       "      <td>AreaTotHA</td>\n",
       "      <td>8.417600e+06</td>\n",
       "      <td>3.294260e+07</td>\n",
       "      <td>1963600</td>\n",
       "      <td>9.171000e+05</td>\n",
       "      <td>1.217520e+06</td>\n",
       "      <td>0.000000e+00</td>\n",
       "      <td>4.545842e+07</td>\n",
       "      <td>2A</td>\n",
       "    </tr>\n",
       "    <tr>\n",
       "      <th>1538</th>\n",
       "      <td>Algeria</td>\n",
       "      <td>2016</td>\n",
       "      <td>4</td>\n",
       "      <td>BiocapPerCap</td>\n",
       "      <td>2.021916e-01</td>\n",
       "      <td>2.636077e-01</td>\n",
       "      <td>0.027166736</td>\n",
       "      <td>7.947991e-03</td>\n",
       "      <td>2.924496e-02</td>\n",
       "      <td>0.000000e+00</td>\n",
       "      <td>5.301590e-01</td>\n",
       "      <td>2A</td>\n",
       "    </tr>\n",
       "    <tr>\n",
       "      <th>1539</th>\n",
       "      <td>Algeria</td>\n",
       "      <td>2016</td>\n",
       "      <td>4</td>\n",
       "      <td>BiocapTotGHA</td>\n",
       "      <td>8.210214e+06</td>\n",
       "      <td>1.070408e+07</td>\n",
       "      <td>1103135.245</td>\n",
       "      <td>3.227369e+05</td>\n",
       "      <td>1.187524e+06</td>\n",
       "      <td>0.000000e+00</td>\n",
       "      <td>2.152769e+07</td>\n",
       "      <td>2A</td>\n",
       "    </tr>\n",
       "    <tr>\n",
       "      <th>1540</th>\n",
       "      <td>Algeria</td>\n",
       "      <td>2016</td>\n",
       "      <td>4</td>\n",
       "      <td>EFConsPerCap</td>\n",
       "      <td>6.280528e-01</td>\n",
       "      <td>1.810332e-01</td>\n",
       "      <td>0.162800822</td>\n",
       "      <td>1.472910e-02</td>\n",
       "      <td>2.924496e-02</td>\n",
       "      <td>1.391455e+00</td>\n",
       "      <td>2.407316e+00</td>\n",
       "      <td>2A</td>\n",
       "    </tr>\n",
       "    <tr>\n",
       "      <th>...</th>\n",
       "      <td>...</td>\n",
       "      <td>...</td>\n",
       "      <td>...</td>\n",
       "      <td>...</td>\n",
       "      <td>...</td>\n",
       "      <td>...</td>\n",
       "      <td>...</td>\n",
       "      <td>...</td>\n",
       "      <td>...</td>\n",
       "      <td>...</td>\n",
       "      <td>...</td>\n",
       "      <td>...</td>\n",
       "    </tr>\n",
       "    <tr>\n",
       "      <th>46281</th>\n",
       "      <td>Norway</td>\n",
       "      <td>2000</td>\n",
       "      <td>162</td>\n",
       "      <td>EFProdTotGHA</td>\n",
       "      <td>1.702080e+06</td>\n",
       "      <td>1.919794e+06</td>\n",
       "      <td>5674036.993</td>\n",
       "      <td>2.528579e+07</td>\n",
       "      <td>2.616858e+05</td>\n",
       "      <td>1.357489e+07</td>\n",
       "      <td>4.841828e+07</td>\n",
       "      <td>3A</td>\n",
       "    </tr>\n",
       "    <tr>\n",
       "      <th>32397</th>\n",
       "      <td>Japan</td>\n",
       "      <td>2001</td>\n",
       "      <td>110</td>\n",
       "      <td>EFConsTotGHA</td>\n",
       "      <td>6.878130e+07</td>\n",
       "      <td>1.946556e+07</td>\n",
       "      <td>41321231.31</td>\n",
       "      <td>6.150713e+07</td>\n",
       "      <td>8.277309e+06</td>\n",
       "      <td>4.626401e+08</td>\n",
       "      <td>6.619927e+08</td>\n",
       "      <td>3A</td>\n",
       "    </tr>\n",
       "    <tr>\n",
       "      <th>48577</th>\n",
       "      <td>Peru</td>\n",
       "      <td>1983</td>\n",
       "      <td>170</td>\n",
       "      <td>EFProdTotGHA</td>\n",
       "      <td>3.313877e+06</td>\n",
       "      <td>1.287114e+07</td>\n",
       "      <td>3193901.69</td>\n",
       "      <td>2.127030e+06</td>\n",
       "      <td>6.321223e+05</td>\n",
       "      <td>6.307104e+06</td>\n",
       "      <td>2.844517e+07</td>\n",
       "      <td>3A</td>\n",
       "    </tr>\n",
       "    <tr>\n",
       "      <th>3794</th>\n",
       "      <td>Bahamas</td>\n",
       "      <td>1991</td>\n",
       "      <td>12</td>\n",
       "      <td>BiocapPerCap</td>\n",
       "      <td>4.217835e-02</td>\n",
       "      <td>3.515023e-03</td>\n",
       "      <td>1.682328292</td>\n",
       "      <td>1.193912e+01</td>\n",
       "      <td>2.957719e-02</td>\n",
       "      <td>0.000000e+00</td>\n",
       "      <td>1.369672e+01</td>\n",
       "      <td>3A</td>\n",
       "    </tr>\n",
       "    <tr>\n",
       "      <th>28813</th>\n",
       "      <td>Indonesia</td>\n",
       "      <td>1999</td>\n",
       "      <td>101</td>\n",
       "      <td>EFConsTotGHA</td>\n",
       "      <td>8.565054e+07</td>\n",
       "      <td>4.534881e+06</td>\n",
       "      <td>59555534.03</td>\n",
       "      <td>2.951416e+07</td>\n",
       "      <td>1.124444e+07</td>\n",
       "      <td>9.209290e+07</td>\n",
       "      <td>2.825925e+08</td>\n",
       "      <td>3A</td>\n",
       "    </tr>\n",
       "  </tbody>\n",
       "</table>\n",
       "<p>590 rows × 12 columns</p>\n",
       "</div>"
      ],
      "text/plain": [
       "         country  year  country_code        record     crop_land  \\\n",
       "1536     Algeria  2016             4    AreaPerCap  2.072989e-01   \n",
       "1537     Algeria  2016             4     AreaTotHA  8.417600e+06   \n",
       "1538     Algeria  2016             4  BiocapPerCap  2.021916e-01   \n",
       "1539     Algeria  2016             4  BiocapTotGHA  8.210214e+06   \n",
       "1540     Algeria  2016             4  EFConsPerCap  6.280528e-01   \n",
       "...          ...   ...           ...           ...           ...   \n",
       "46281     Norway  2000           162  EFProdTotGHA  1.702080e+06   \n",
       "32397      Japan  2001           110  EFConsTotGHA  6.878130e+07   \n",
       "48577       Peru  1983           170  EFProdTotGHA  3.313877e+06   \n",
       "3794     Bahamas  1991            12  BiocapPerCap  4.217835e-02   \n",
       "28813  Indonesia  1999           101  EFConsTotGHA  8.565054e+07   \n",
       "\n",
       "       grazing_land  forest_land  fishing_ground  built_up_land        carbon  \\\n",
       "1536   8.112722e-01  0.048357265    2.258528e-02   2.998367e-02  0.000000e+00   \n",
       "1537   3.294260e+07      1963600    9.171000e+05   1.217520e+06  0.000000e+00   \n",
       "1538   2.636077e-01  0.027166736    7.947991e-03   2.924496e-02  0.000000e+00   \n",
       "1539   1.070408e+07  1103135.245    3.227369e+05   1.187524e+06  0.000000e+00   \n",
       "1540   1.810332e-01  0.162800822    1.472910e-02   2.924496e-02  1.391455e+00   \n",
       "...             ...          ...             ...            ...           ...   \n",
       "46281  1.919794e+06  5674036.993    2.528579e+07   2.616858e+05  1.357489e+07   \n",
       "32397  1.946556e+07  41321231.31    6.150713e+07   8.277309e+06  4.626401e+08   \n",
       "48577  1.287114e+07   3193901.69    2.127030e+06   6.321223e+05  6.307104e+06   \n",
       "3794   3.515023e-03  1.682328292    1.193912e+01   2.957719e-02  0.000000e+00   \n",
       "28813  4.534881e+06  59555534.03    2.951416e+07   1.124444e+07  9.209290e+07   \n",
       "\n",
       "              total QScore  \n",
       "1536   1.119497e+00     2A  \n",
       "1537   4.545842e+07     2A  \n",
       "1538   5.301590e-01     2A  \n",
       "1539   2.152769e+07     2A  \n",
       "1540   2.407316e+00     2A  \n",
       "...             ...    ...  \n",
       "46281  4.841828e+07     3A  \n",
       "32397  6.619927e+08     3A  \n",
       "48577  2.844517e+07     3A  \n",
       "3794   1.369672e+01     3A  \n",
       "28813  2.825925e+08     3A  \n",
       "\n",
       "[590 rows x 12 columns]"
      ]
     },
     "execution_count": 15,
     "metadata": {},
     "output_type": "execute_result"
    }
   ],
   "source": [
    "data_df = df_2A.append(df_3A)\n",
    "data_df"
   ]
  },
  {
   "cell_type": "code",
   "execution_count": 16,
   "metadata": {},
   "outputs": [
    {
     "data": {
      "text/plain": [
       "(590, 12)"
      ]
     },
     "execution_count": 16,
     "metadata": {},
     "output_type": "execute_result"
    }
   ],
   "source": [
    "import sklearn.utils\n",
    "\n",
    "data_df = sklearn.utils.shuffle(data_df)\n",
    "data_df = data_df.reset_index(drop = True)\n",
    "\n",
    "data_df.shape"
   ]
  },
  {
   "cell_type": "code",
   "execution_count": 17,
   "metadata": {},
   "outputs": [
    {
     "data": {
      "text/plain": [
       "3A    350\n",
       "2A    240\n",
       "Name: QScore, dtype: int64"
      ]
     },
     "execution_count": 17,
     "metadata": {},
     "output_type": "execute_result"
    }
   ],
   "source": [
    "data_df.QScore.value_counts()"
   ]
  },
  {
   "cell_type": "code",
   "execution_count": 18,
   "metadata": {},
   "outputs": [],
   "source": [
    "from sklearn.preprocessing import LabelEncoder\n",
    "\n",
    "encoder = LabelEncoder()\n",
    "data_df.record = encoder.fit_transform(data_df.record)"
   ]
  },
  {
   "cell_type": "code",
   "execution_count": 19,
   "metadata": {},
   "outputs": [],
   "source": [
    "data_df = data_df.drop(columns = ['country', 'year', 'country_code'])\n",
    "\n",
    "X = data_df.drop(columns = 'QScore')\n",
    "y = data_df['QScore']"
   ]
  },
  {
   "cell_type": "code",
   "execution_count": 20,
   "metadata": {},
   "outputs": [],
   "source": [
    "from sklearn.model_selection import train_test_split\n",
    "\n",
    "x_train, x_test, y_train, y_test = train_test_split(X, y, test_size = 0.3, random_state = 0)"
   ]
  },
  {
   "cell_type": "code",
   "execution_count": 21,
   "metadata": {},
   "outputs": [
    {
     "data": {
      "text/plain": [
       "3A    250\n",
       "2A    163\n",
       "Name: QScore, dtype: int64"
      ]
     },
     "execution_count": 21,
     "metadata": {},
     "output_type": "execute_result"
    }
   ],
   "source": [
    "y_train.value_counts()"
   ]
  },
  {
   "cell_type": "code",
   "execution_count": 22,
   "metadata": {},
   "outputs": [],
   "source": [
    "from imblearn.over_sampling import SMOTE\n",
    "\n",
    "smote = SMOTE(random_state = 1)\n",
    "x_train_balanced, y_train_balanced = smote.fit_resample(x_train, y_train)"
   ]
  },
  {
   "cell_type": "code",
   "execution_count": 23,
   "metadata": {},
   "outputs": [],
   "source": [
    "from sklearn.preprocessing import MinMaxScaler\n",
    "\n",
    "scaler = MinMaxScaler()\n",
    "normalized_train_df = scaler.fit_transform(x_train_balanced.drop(columns = ['record']))\n",
    "normalized_train_df = pd.DataFrame(normalized_train_df, columns = x_train_balanced.drop(columns = ['record']).columns)\n",
    "normalized_train_df['record'] = x_train_balanced['record']"
   ]
  },
  {
   "cell_type": "code",
   "execution_count": 24,
   "metadata": {},
   "outputs": [],
   "source": [
    "x_test = x_test.reset_index(drop = True)\n",
    "normalized_test_df = scaler.transform(x_test.drop(columns = ['record']))\n",
    "normalized_test_df = pd.DataFrame(normalized_test_df, columns = x_test.drop(columns = ['record']).columns)\n",
    "normalized_test_df['record'] = x_test['record']"
   ]
  },
  {
   "cell_type": "code",
   "execution_count": 25,
   "metadata": {},
   "outputs": [
    {
     "data": {
      "text/plain": [
       "LogisticRegression()"
      ]
     },
     "execution_count": 25,
     "metadata": {},
     "output_type": "execute_result"
    }
   ],
   "source": [
    "from sklearn.linear_model import LogisticRegression\n",
    "\n",
    "log_reg = LogisticRegression()\n",
    "log_reg.fit(normalized_train_df, y_train_balanced)"
   ]
  },
  {
   "cell_type": "code",
   "execution_count": null,
   "metadata": {},
   "outputs": [],
   "source": []
  },
  {
   "cell_type": "code",
   "execution_count": 26,
   "metadata": {},
   "outputs": [
    {
     "data": {
      "text/plain": [
       "array([0.51980792, 0.44862155, 0.56892231, 0.47979192, 0.45913462])"
      ]
     },
     "execution_count": 26,
     "metadata": {},
     "output_type": "execute_result"
    }
   ],
   "source": [
    "from sklearn.model_selection import cross_val_score\n",
    "\n",
    "scores = cross_val_score(log_reg, normalized_train_df, y_train_balanced, cv = 5, scoring = 'f1_macro')\n",
    "scores"
   ]
  },
  {
   "cell_type": "code",
   "execution_count": 27,
   "metadata": {},
   "outputs": [
    {
     "data": {
      "text/plain": [
       "array([[40, 37],\n",
       "       [50, 50]], dtype=int64)"
      ]
     },
     "execution_count": 27,
     "metadata": {},
     "output_type": "execute_result"
    }
   ],
   "source": [
    "from sklearn.metrics import confusion_matrix\n",
    "\n",
    "new_predictions = log_reg.predict(normalized_test_df)\n",
    "cnf_mat = confusion_matrix(y_true = y_test, y_pred = new_predictions, labels = ['2A', '3A'])\n",
    "cnf_mat"
   ]
  },
  {
   "cell_type": "code",
   "execution_count": 28,
   "metadata": {},
   "outputs": [
    {
     "name": "stdout",
     "output_type": "stream",
     "text": [
      "Accuracy: 50.85\n"
     ]
    }
   ],
   "source": [
    "from sklearn.metrics import accuracy_score\n",
    "\n",
    "accuracy = accuracy_score(y_true = y_test, y_pred = new_predictions)\n",
    "print(f'Accuracy: {round(accuracy*100, 2)}')"
   ]
  },
  {
   "cell_type": "code",
   "execution_count": 29,
   "metadata": {},
   "outputs": [
    {
     "name": "stdout",
     "output_type": "stream",
     "text": [
      "Precision: 44.44\n"
     ]
    }
   ],
   "source": [
    "from sklearn.metrics import precision_score\n",
    "\n",
    "precision = precision_score(y_true = y_test, y_pred = new_predictions, pos_label = '2A')\n",
    "print(f'Precision: {round(precision * 100, 2)}')"
   ]
  },
  {
   "cell_type": "code",
   "execution_count": 30,
   "metadata": {},
   "outputs": [
    {
     "name": "stdout",
     "output_type": "stream",
     "text": [
      "Recall: 51.95\n"
     ]
    }
   ],
   "source": [
    "from sklearn.metrics import recall_score\n",
    "\n",
    "recall = recall_score(y_true = y_test, y_pred = new_predictions, pos_label = '2A')\n",
    "print(f'Recall: {round(recall * 100, 2)}')"
   ]
  },
  {
   "cell_type": "code",
   "execution_count": 31,
   "metadata": {},
   "outputs": [
    {
     "name": "stdout",
     "output_type": "stream",
     "text": [
      "F1: 47.9\n"
     ]
    }
   ],
   "source": [
    "from sklearn.metrics import f1_score\n",
    "\n",
    "f1 = f1_score(y_true = y_test, y_pred = new_predictions, pos_label = '2A')\n",
    "print(f'F1: {round(f1 * 100, 2)}')"
   ]
  },
  {
   "cell_type": "code",
   "execution_count": 32,
   "metadata": {},
   "outputs": [],
   "source": [
    "from sklearn.model_selection import KFold\n",
    "\n",
    "kf = KFold(n_splits = 5)\n",
    "\n",
    "f1_scores = []\n",
    "\n",
    "for train_index, test_index in kf.split(normalized_train_df):\n",
    "    x_train, x_test = normalized_train_df.iloc[train_index], normalized_train_df.iloc[test_index]\n",
    "    y_train, y_test = y_train_balanced.iloc[train_index], y_train_balanced.iloc[test_index]\n",
    "    \n",
    "    model = LogisticRegression().fit(x_train, y_train)\n",
    "    f1_scores.append(f1_score(y_true = y_test, y_pred = model.predict(x_test), pos_label = '2A') * 100)"
   ]
  },
  {
   "cell_type": "code",
   "execution_count": 33,
   "metadata": {},
   "outputs": [
    {
     "data": {
      "text/plain": [
       "[57.352941176470594,\n",
       " 59.130434782608695,\n",
       " 53.73134328358209,\n",
       " 57.35294117647059,\n",
       " 0.0]"
      ]
     },
     "execution_count": 33,
     "metadata": {},
     "output_type": "execute_result"
    }
   ],
   "source": [
    "f1_scores"
   ]
  },
  {
   "cell_type": "code",
   "execution_count": 34,
   "metadata": {},
   "outputs": [],
   "source": [
    "from sklearn.model_selection import StratifiedKFold\n",
    "\n",
    "skf = StratifiedKFold(n_splits = 5, shuffle = True, random_state = 1)\n",
    "f1_scores = []\n",
    "\n",
    "for train_index, test_index in skf.split(normalized_train_df, y_train_balanced):\n",
    "    x_train, x_test = np.array(normalized_train_df)[train_index], np.array(normalized_train_df)[test_index]\n",
    "    y_train, y_test = y_train_balanced[train_index], y_train_balanced[test_index]\n",
    "    \n",
    "    model = LogisticRegression().fit(x_train, y_train)\n",
    "    f1_scores.append(f1_score(y_true = y_test, y_pred = model.predict(x_test), pos_label = '2A'))"
   ]
  },
  {
   "cell_type": "code",
   "execution_count": 35,
   "metadata": {},
   "outputs": [
    {
     "data": {
      "text/plain": [
       "[0.616822429906542,\n",
       " 0.6349206349206348,\n",
       " 0.42424242424242425,\n",
       " 0.608695652173913,\n",
       " 0.505263157894737]"
      ]
     },
     "execution_count": 35,
     "metadata": {},
     "output_type": "execute_result"
    }
   ],
   "source": [
    "f1_scores"
   ]
  },
  {
   "cell_type": "code",
   "execution_count": 36,
   "metadata": {},
   "outputs": [
    {
     "data": {
      "text/plain": [
       "51.0"
      ]
     },
     "execution_count": 36,
     "metadata": {},
     "output_type": "execute_result"
    }
   ],
   "source": [
    "from sklearn.model_selection import LeaveOneOut\n",
    "\n",
    "loo = LeaveOneOut()\n",
    "scores = cross_val_score(LogisticRegression(), normalized_train_df, y_train_balanced, cv = loo, scoring = 'f1_macro')\n",
    "\n",
    "average_score = scores.mean() * 100\n",
    "average_score"
   ]
  },
  {
   "cell_type": "code",
   "execution_count": null,
   "metadata": {},
   "outputs": [],
   "source": []
  },
  {
   "cell_type": "code",
   "execution_count": 37,
   "metadata": {},
   "outputs": [
    {
     "data": {
      "text/plain": [
       "DecisionTreeClassifier()"
      ]
     },
     "execution_count": 37,
     "metadata": {},
     "output_type": "execute_result"
    }
   ],
   "source": [
    "from sklearn.tree import DecisionTreeClassifier\n",
    "\n",
    "dec_tree = DecisionTreeClassifier()\n",
    "dec_tree.fit(normalized_train_df, y_train_balanced)"
   ]
  },
  {
   "cell_type": "code",
   "execution_count": null,
   "metadata": {},
   "outputs": [],
   "source": []
  }
 ],
 "metadata": {
  "kernelspec": {
   "display_name": "Python 3",
   "language": "python",
   "name": "python3"
  },
  "language_info": {
   "codemirror_mode": {
    "name": "ipython",
    "version": 3
   },
   "file_extension": ".py",
   "mimetype": "text/x-python",
   "name": "python",
   "nbconvert_exporter": "python",
   "pygments_lexer": "ipython3",
   "version": "3.8.5"
  }
 },
 "nbformat": 4,
 "nbformat_minor": 4
}
